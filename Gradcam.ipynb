{
 "cells": [
  {
   "cell_type": "markdown",
   "id": "15482c6d-9de3-4b2c-a73a-79887519456f",
   "metadata": {},
   "source": [
    "## Gradcam Visualization"
   ]
  },
  {
   "cell_type": "code",
   "execution_count": 34,
   "id": "18442b91-7def-4c08-b225-845acabb6fe7",
   "metadata": {},
   "outputs": [],
   "source": [
    "from tensorflow.keras.preprocessing.image import img_to_array\n",
    "from tensorflow.keras.preprocessing.image import load_img\n",
    "from tensorflow.keras.applications import imagenet_utils\n",
    "from tensorflow.keras.models import Model\n",
    "\n",
    "import tensorflow as tf\n",
    "\n",
    "import numpy as np\n",
    "import imutils\n",
    "import cv2"
   ]
  },
  {
   "cell_type": "code",
   "execution_count": 36,
   "id": "e3ee5996-fd27-4ca3-a7b5-80cdcb76e355",
   "metadata": {},
   "outputs": [],
   "source": [
    "import tensorflow as tf\n",
    "model = tf.keras.models.load_model(\"model.h5\")"
   ]
  },
  {
   "cell_type": "code",
   "execution_count": null,
   "id": "b358512d-cc8a-430e-bbcf-ba90b0f25241",
   "metadata": {},
   "outputs": [],
   "source": [
    "for layer in model.layers:\n",
    "    print(layer.name, layer.output.shape)"
   ]
  },
  {
   "cell_type": "code",
   "execution_count": 113,
   "id": "810cd795-10ad-4186-b0ec-9215bc32b07a",
   "metadata": {},
   "outputs": [],
   "source": [
    "original_img = cv2.imread(\"image.jpg\")\n",
    "resized = cv2.resize(original_img, (224, 224))"
   ]
  },
  {
   "cell_type": "code",
   "execution_count": 115,
   "id": "67994dd2-f96c-4ee8-b486-bdf7af378007",
   "metadata": {},
   "outputs": [],
   "source": [
    "image = load_img(\"image.jpg\", target_size=(224, 224))\n",
    "image = img_to_array(image)\n",
    "image = np.expand_dims(image, axis=0)\n",
    "image = imagenet_utils.preprocess_input(image)"
   ]
  },
  {
   "cell_type": "code",
   "execution_count": 117,
   "id": "c2474791-4214-4424-ac61-e5a87aec0874",
   "metadata": {},
   "outputs": [
    {
     "name": "stdout",
     "output_type": "stream",
     "text": [
      "1/1 [==============================] - 0s 59ms/step\n"
     ]
    }
   ],
   "source": [
    "preds = model.predict(image)\n",
    "i = np.argmax(preds[0])"
   ]
  },
  {
   "cell_type": "code",
   "execution_count": null,
   "id": "9f111b53-da58-4bf0-bac3-a183562a521e",
   "metadata": {},
   "outputs": [],
   "source": [
    "import numpy as np\n",
    "class_labels = ['label1', 'label2']\n",
    "predicted_class = np.argmax(preds, axis=1)[0] \n",
    "probability = preds[0][predicted_class] \n",
    "label = \"{}: {:.2f}%\".format(class_labels[predicted_class], probability * 100)\n",
    "print(\"[INFO] {}\".format(label))\n"
   ]
  },
  {
   "cell_type": "code",
   "execution_count": 121,
   "id": "95380899-66dc-41a6-b311-fea653b1eca8",
   "metadata": {},
   "outputs": [],
   "source": [
    "class GradCAM:\n",
    "    def __init__(self, model, classIdx, layerName=None):\n",
    "        self.model = model\n",
    "        self.classIdx = classIdx\n",
    "        self.layerName = layerName\n",
    "\n",
    "        if self.layerName is None:\n",
    "            self.layerName = self.find_target_layer()\n",
    "\n",
    "    def find_target_layer(self):\n",
    "        for layer in reversed(self.model.layers):\n",
    "            if len(layer.output.shape) == 4:\n",
    "                return layer.name\n",
    "        raise ValueError(\"Could not find 4D layer. Cannot apply GradCAM.\")\n",
    "\n",
    "    def compute_heatmap(self, image, eps=1e-8):\n",
    "        gradModel = Model(inputs=[self.model.inputs], outputs= [self.model.get_layer(self.layerName).output, self.model.output])\n",
    "\n",
    "        with tf.GradientTape() as tape:\n",
    "            inputs = tf.cast(image, tf.float32)\n",
    "            (convOutputs, predictions) = gradModel(inputs)\n",
    "            loss = predictions[:, self.classIdx]\n",
    "        grads = tape.gradient(loss, convOutputs)\n",
    "\n",
    "        castConvOutputs = tf.cast(convOutputs > 0, \"float32\")\n",
    "        castGrads = tf.cast(grads > 0, \"float32\")\n",
    "        guidedGrads = castConvOutputs * castGrads * grads\n",
    "\n",
    "        convOutputs = convOutputs[0]\n",
    "        guidedGrads = guidedGrads[0]\n",
    "\n",
    "        weights = tf.reduce_mean(guidedGrads, axis=(0, 1))\n",
    "        cam = tf.reduce_sum(tf.multiply(weights, convOutputs), axis=-1)\n",
    "\n",
    "        (w, h) = (image.shape[2], image.shape[1])\n",
    "        heatmap = cv2.resize(cam.numpy(), (w, h))\n",
    "\n",
    "        numer = heatmap - np.min(heatmap)\n",
    "        denom = (heatmap.max() - heatmap.min()) + eps\n",
    "        heatmap = numer / denom\n",
    "        heatmap = (heatmap * 255).astype(\"uint8\")\n",
    "        return heatmap\n",
    "\n",
    "    def overlay_heatmap(self, heatmap, image, alpha=0.5,\n",
    "        colormap=cv2.COLORMAP_JET):\n",
    "        heatmap = cv2.applyColorMap(heatmap, colormap)\n",
    "        output = cv2.addWeighted(image, alpha, heatmap, 1 - alpha, 0)\n",
    "        return (heatmap, output)"
   ]
  },
  {
   "cell_type": "code",
   "execution_count": 127,
   "id": "995b065c-1cca-4cd5-8010-fc1fcd667d11",
   "metadata": {},
   "outputs": [],
   "source": [
    "cam = GradCAM(model, i)\n",
    "heatmap = cam.compute_heatmap(image)"
   ]
  },
  {
   "cell_type": "code",
   "execution_count": 129,
   "id": "39a19543-63e5-456a-86c0-e997f9b7dfb3",
   "metadata": {},
   "outputs": [],
   "source": [
    "heatmap = cv2.resize(heatmap, (orig.shape[1], orig.shape[0]))\n",
    "(heatmap, output) = cam.overlay_heatmap(heatmap, orig, alpha=0.5)"
   ]
  },
  {
   "cell_type": "code",
   "execution_count": 131,
   "id": "a7b580d1-c7ee-40a3-b10f-29130bf89744",
   "metadata": {},
   "outputs": [],
   "source": [
    "cv2.rectangle(output, (0, 0), (340, 40), (0, 0, 0), -1)\n",
    "cv2.putText(output, label, (10, 25), cv2.FONT_HERSHEY_SIMPLEX, 0.8, (255, 255, 255), 2)\n",
    "output = np.vstack([orig, heatmap, output])\n",
    "output = imutils.resize(output, height=700)\n",
    "cv2.imshow(\"gradcam\", output)\n",
    "cv2.waitKey(0)\n",
    "cv2.imwrite(\"gradcam_result.jpg\", output)\n",
    "cv2.destroyAllWindows()"
   ]
  },
  {
   "cell_type": "code",
   "execution_count": null,
   "id": "13960a41-e6d7-40d7-8820-04598c4c9ce9",
   "metadata": {},
   "outputs": [],
   "source": []
  }
 ],
 "metadata": {
  "kernelspec": {
   "display_name": "medical_paper",
   "language": "python",
   "name": "medical_paper"
  },
  "language_info": {
   "codemirror_mode": {
    "name": "ipython",
    "version": 3
   },
   "file_extension": ".py",
   "mimetype": "text/x-python",
   "name": "python",
   "nbconvert_exporter": "python",
   "pygments_lexer": "ipython3",
   "version": "3.9.20"
  }
 },
 "nbformat": 4,
 "nbformat_minor": 5
}
